{
 "cells": [
  {
   "cell_type": "code",
   "execution_count": null,
   "metadata": {},
   "outputs": [],
   "source": [
    "import pandas as pd\n",
    "file1=pd.ExcelFile('scoops_data.xlsx')\n",
    "file2=file1.parse('scoops_July_30th')\n",
    "\n",
    "#f_th=list(file2['theme'])\n",
    "#f_name=list(file2['name'])\n",
    "#thm=list(set(file2['theme']))\n",
    "#print(thm)\n",
    "\n",
    "key_fund=['raises','grabs','raise','raising','funds','closes','closed','funding','raised','invested','funded','secures','receives','secured','received']\n",
    "key_partner=['partnerships','joins','joined']\n",
    "key_growth=['growth','growing']\n",
    "key_executivemove=['promotes','promoted','appoints','appointed','promote','joins','joined']\n",
    "key_ipos=['to go public','going public','went public','goes public']\n",
    "key_expansion=['expansion','expanded']\n",
    "key_acquisition=['acquire','acquisition','acquired','agreement','acquiring','stake']\n",
    "key_events=['events','event']\n",
    "key_leaderchange=['joins','joined','appointed','promoted','promotes','appoints','changes','changed']\n",
    "key_technologies=['technologies','technology']\n",
    "key_productlaunch=['launches','launched','launch']\n",
    "final_key=list(set(key_fund+key_partner+key_growth+key_acquisition+key_executivemove+key_ipos+key_expansion+key_events+key_leaderchange+key_technologies+key_productlaunch))\n",
    "#print(final_key)\n",
    "\n",
    "#file3=file2[(file2.theme =='funding') & ((file2.category == 'Health')|(file2.category =='ScienceAndTechnology')|(file2.category =='Business')|(file2.category =='US')|(file2.category =='World'))]['description']\n",
    "file3=list(file2[(file2.category == 'Health')|(file2.category =='ScienceAndTechnology')|(file2.category =='Business')|(file2.category =='US')|(file2.category =='World')]['description'])\n",
    "file3=[x.lower() for x in file3]\n",
    "\n",
    "\n",
    "#print(file3)\n",
    "\n",
    "\n",
    "p=0\n",
    "i=0\n",
    "while i<=len(file3):\n",
    "    for j in range(len(final_key)):\n",
    "        if final_key[j] in file3[i]:\n",
    "            print('Relevant')\n",
    "            p=1 \n",
    "            break\n",
    "    if p==0:\n",
    "        print('Irrelevant')\n",
    "    i+=1 \n",
    "    p=0"
   ]
  }
 ],
 "metadata": {
  "kernelspec": {
   "display_name": "Python 3",
   "language": "python",
   "name": "python3"
  },
  "language_info": {
   "codemirror_mode": {
    "name": "ipython",
    "version": 3
   },
   "file_extension": ".py",
   "mimetype": "text/x-python",
   "name": "python",
   "nbconvert_exporter": "python",
   "pygments_lexer": "ipython3",
   "version": "3.7.6"
  }
 },
 "nbformat": 4,
 "nbformat_minor": 4
}
